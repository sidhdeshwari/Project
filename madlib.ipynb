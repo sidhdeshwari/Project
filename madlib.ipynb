{
  "nbformat": 4,
  "nbformat_minor": 0,
  "metadata": {
    "colab": {
      "name": "madlib.ipynb",
      "provenance": [],
      "collapsed_sections": [],
      "authorship_tag": "ABX9TyN0iPPPcoj4ewkIJI2nz7Tq",
      "include_colab_link": true
    },
    "kernelspec": {
      "name": "python3",
      "display_name": "Python 3"
    },
    "language_info": {
      "name": "python"
    }
  },
  "cells": [
    {
      "cell_type": "markdown",
      "metadata": {
        "id": "view-in-github",
        "colab_type": "text"
      },
      "source": [
        "<a href=\"https://colab.research.google.com/github/sidhdeshwari/Project/blob/main/madlib.ipynb\" target=\"_parent\"><img src=\"https://colab.research.google.com/assets/colab-badge.svg\" alt=\"Open In Colab\"/></a>"
      ]
    },
    {
      "cell_type": "code",
      "execution_count": 3,
      "metadata": {
        "colab": {
          "base_uri": "https://localhost:8080/"
        },
        "id": "cXujL3zjc32i",
        "outputId": "6cd7fced-c7c0-4b5a-e32f-aeb7373baee0"
      },
      "outputs": [
        {
          "output_type": "stream",
          "name": "stdout",
          "text": [
            "Adjective: easy\n",
            "Verb: programming\n",
            "Verb: safe\n",
            "Famous person: rohan\n",
            "Computer programming is so easy! It makes me so excited all the time because \n",
            " I love to programming. Stay hydrated and safe like you are rohan!\n"
          ]
        }
      ],
      "source": [
        "adj=input(\"Adjective: \")\n",
        "verb1=input(\"Verb: \")\n",
        "verb2=input(\"Verb: \")\n",
        "famous_person=input(\"Famous person: \")\n",
        "\n",
        "madlib=f\"Computer programming is so {adj}! It makes me so excited all the time because \\n I love to {verb1}. Stay hydrated and {verb2} like you are {famous_person}!\"\n",
        "print(madlib)"
      ]
    }
  ]
}