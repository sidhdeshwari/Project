{
  "nbformat": 4,
  "nbformat_minor": 0,
  "metadata": {
    "colab": {
      "provenance": [],
      "authorship_tag": "ABX9TyPSznrXjAR9QINvVhgl1awI",
      "include_colab_link": true
    },
    "kernelspec": {
      "name": "python3",
      "display_name": "Python 3"
    },
    "language_info": {
      "name": "python"
    }
  },
  "cells": [
    {
      "cell_type": "markdown",
      "metadata": {
        "id": "view-in-github",
        "colab_type": "text"
      },
      "source": [
        "<a href=\"https://colab.research.google.com/github/sidhdeshwari/Project/blob/main/guess_the_number.ipynb\" target=\"_parent\"><img src=\"https://colab.research.google.com/assets/colab-badge.svg\" alt=\"Open In Colab\"/></a>"
      ]
    },
    {
      "cell_type": "code",
      "execution_count": 1,
      "metadata": {
        "id": "JAOVUqfwSibx"
      },
      "outputs": [],
      "source": [
        "import random\n"
      ]
    },
    {
      "cell_type": "code",
      "source": [
        "def guess(x):\n",
        "  random_number=random.randint(1,x)\n",
        "  guess=0\n",
        "  while guess !=random_number:\n",
        "    guess=int(input(f'Guess a number between 1 and {x}:'))\n",
        "    if guess <random_number:\n",
        "      print(\"sorry guess again. too low\")\n",
        "    elif guess >random_number:\n",
        "      print(\"sorry guess again. too high\")\n",
        "  print(f\"yes, congrats you have guesses the number {random_number} correctly!!\")\n",
        "guess(10)"
      ],
      "metadata": {
        "colab": {
          "base_uri": "https://localhost:8080/"
        },
        "id": "EuABAFwbSnnf",
        "outputId": "39485d4d-b024-4749-9e37-b28c8d987408"
      },
      "execution_count": 2,
      "outputs": [
        {
          "output_type": "stream",
          "name": "stdout",
          "text": [
            "Guess a number between 1 and 10:5\n",
            "sorry guess again. too high\n",
            "Guess a number between 1 and 10:3\n",
            "sorry guess again. too low\n",
            "Guess a number between 1 and 10:4\n",
            "yes, congrats you have guesses the number 4 correctly!!\n"
          ]
        }
      ]
    }
  ]
}